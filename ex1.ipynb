{
 "cells": [
  {
   "cell_type": "code",
   "execution_count": 14,
   "metadata": {},
   "outputs": [
    {
     "name": "stdout",
     "output_type": "stream",
     "text": [
      "285\n",
      "['tench', 'goldfish', Ellipsis]\n"
     ]
    }
   ],
   "source": [
    "from torchvision import models, transforms\n",
    "from PIL import Image\n",
    "\n",
    "#prepare input.\n",
    "image = Image.open('/home/valentini/Documents/Università/Deep Learning/my exercise/input.jpg')\n",
    "normalize = transforms.Normalize(mean=[0.485, 0.456, 0.406],\n",
    "                                 std=[0.229, 0.224, 0.225])\n",
    "\n",
    "convert = transforms.ToTensor()\n",
    "tensor = normalize(convert(image))[None, ...]\n",
    "\n",
    "#prepare network\n",
    "model = models.vgg16(weights=True)\n",
    "model.eval()\n",
    "\n",
    "# Feed input through network\n",
    "prediction = model(tensor).argmax().item()\n",
    "print(prediction)\n",
    "\n",
    "# Decode prediction.\n",
    "label_names = [\"tench\", \"goldfish\", ...]\n",
    "print(label_names)"
   ]
  },
  {
   "cell_type": "code",
   "execution_count": 13,
   "metadata": {},
   "outputs": [
    {
     "name": "stdout",
     "output_type": "stream",
     "text": [
      "['tench', 'goldfish', Ellipsis]\n"
     ]
    }
   ],
   "source": []
  }
 ],
 "metadata": {
  "kernelspec": {
   "display_name": "deep",
   "language": "python",
   "name": "python3"
  },
  "language_info": {
   "codemirror_mode": {
    "name": "ipython",
    "version": 3
   },
   "file_extension": ".py",
   "mimetype": "text/x-python",
   "name": "python",
   "nbconvert_exporter": "python",
   "pygments_lexer": "ipython3",
   "version": "3.8.16"
  },
  "orig_nbformat": 4
 },
 "nbformat": 4,
 "nbformat_minor": 2
}
