{
 "cells": [
  {
   "cell_type": "code",
   "execution_count": 6,
   "metadata": {},
   "outputs": [],
   "source": [
    "import torch\n",
    "from torch import nn\n",
    "from torch.utils.data import DataLoader\n",
    "from torchvision import datasets\n",
    "from torchvision.transforms import ToTensor"
   ]
  },
  {
   "cell_type": "code",
   "execution_count": 8,
   "metadata": {},
   "outputs": [
    {
     "name": "stdout",
     "output_type": "stream",
     "text": [
      "Downloading http://fashion-mnist.s3-website.eu-central-1.amazonaws.com/train-images-idx3-ubyte.gz\n",
      "Downloading http://fashion-mnist.s3-website.eu-central-1.amazonaws.com/train-images-idx3-ubyte.gz to data/FashionMNIST/raw/train-images-idx3-ubyte.gz\n"
     ]
    },
    {
     "name": "stderr",
     "output_type": "stream",
     "text": [
      "100%|██████████| 26421880/26421880 [00:23<00:00, 1115718.63it/s]\n"
     ]
    },
    {
     "name": "stdout",
     "output_type": "stream",
     "text": [
      "Extracting data/FashionMNIST/raw/train-images-idx3-ubyte.gz to data/FashionMNIST/raw\n",
      "\n",
      "Downloading http://fashion-mnist.s3-website.eu-central-1.amazonaws.com/train-labels-idx1-ubyte.gz\n",
      "Downloading http://fashion-mnist.s3-website.eu-central-1.amazonaws.com/train-labels-idx1-ubyte.gz to data/FashionMNIST/raw/train-labels-idx1-ubyte.gz\n"
     ]
    },
    {
     "name": "stderr",
     "output_type": "stream",
     "text": [
      "100%|██████████| 29515/29515 [00:00<00:00, 1231042.68it/s]"
     ]
    },
    {
     "name": "stdout",
     "output_type": "stream",
     "text": [
      "Extracting data/FashionMNIST/raw/train-labels-idx1-ubyte.gz to data/FashionMNIST/raw\n",
      "\n",
      "Downloading http://fashion-mnist.s3-website.eu-central-1.amazonaws.com/t10k-images-idx3-ubyte.gz\n"
     ]
    },
    {
     "name": "stderr",
     "output_type": "stream",
     "text": [
      "\n"
     ]
    },
    {
     "name": "stdout",
     "output_type": "stream",
     "text": [
      "Downloading http://fashion-mnist.s3-website.eu-central-1.amazonaws.com/t10k-images-idx3-ubyte.gz to data/FashionMNIST/raw/t10k-images-idx3-ubyte.gz\n"
     ]
    },
    {
     "name": "stderr",
     "output_type": "stream",
     "text": [
      "100%|██████████| 4422102/4422102 [00:04<00:00, 1037942.15it/s]\n"
     ]
    },
    {
     "name": "stdout",
     "output_type": "stream",
     "text": [
      "Extracting data/FashionMNIST/raw/t10k-images-idx3-ubyte.gz to data/FashionMNIST/raw\n",
      "\n",
      "Downloading http://fashion-mnist.s3-website.eu-central-1.amazonaws.com/t10k-labels-idx1-ubyte.gz\n",
      "Downloading http://fashion-mnist.s3-website.eu-central-1.amazonaws.com/t10k-labels-idx1-ubyte.gz to data/FashionMNIST/raw/t10k-labels-idx1-ubyte.gz\n"
     ]
    },
    {
     "name": "stderr",
     "output_type": "stream",
     "text": [
      "100%|██████████| 5148/5148 [00:00<00:00, 2832888.61it/s]\n"
     ]
    },
    {
     "name": "stdout",
     "output_type": "stream",
     "text": [
      "Extracting data/FashionMNIST/raw/t10k-labels-idx1-ubyte.gz to data/FashionMNIST/raw\n",
      "\n",
      "Epoch 01 Test Accuracy: 40.89%, Test Loss: 2.157\n",
      "Epoch 02 Test Accuracy: 53.02%, Test Loss: 1.896\n",
      "Epoch 03 Test Accuracy: 61.36%, Test Loss: 1.539\n",
      "Epoch 04 Test Accuracy: 64.11%, Test Loss: 1.268\n",
      "Epoch 05 Test Accuracy: 65.22%, Test Loss: 1.096\n",
      "Epoch 06 Test Accuracy: 66.08%, Test Loss: 0.9843\n",
      "Epoch 07 Test Accuracy: 67.21%, Test Loss: 0.9086\n",
      "Epoch 08 Test Accuracy: 68.27%, Test Loss: 0.8549\n",
      "Epoch 09 Test Accuracy: 69.54%, Test Loss: 0.8149\n",
      "Epoch 10 Test Accuracy: 70.99%, Test Loss: 0.7835\n"
     ]
    }
   ],
   "source": [
    "# Prepare training and test data\n",
    "training_data = datasets.FashionMNIST(\n",
    "    root=\"data\",\n",
    "    train=True,\n",
    "    download=True,\n",
    "    transform=ToTensor(),\n",
    ")\n",
    "\n",
    "\t\n",
    "test_data = datasets.FashionMNIST(\n",
    "    root=\"data\",\n",
    "    train=False,\n",
    "    download=True,\n",
    "    transform=ToTensor(),\n",
    ")\n",
    "\n",
    "training_data_loader= DataLoader(training_data, batch_size=64)\n",
    "test_data_loader = DataLoader(test_data, batch_size=64)\n",
    "\n",
    "# Define network\n",
    "class FashionNetwork(nn.Module):\n",
    "    def __init__(self):\n",
    "        super(FashionNetwork, self).__init__()\n",
    "        self.flatten = nn.Flatten()\n",
    "        self.linear_relu_stack = nn.Sequential(\n",
    "            nn.Linear(28 * 28, 512),\n",
    "            nn.ReLU(),\n",
    "            nn.Linear(512, 512),\n",
    "            nn.ReLU(),\n",
    "            nn.Linear(512, 10),\n",
    "        )\n",
    "    \n",
    "    def forward(self, x):\n",
    "        x = self.flatten(x)\n",
    "        logits = self.linear_relu_stack(x)\n",
    "        return logits\n",
    "    \n",
    "\n",
    "def train_loop( data_loader, model, loss_function, optimizer):\n",
    "    for batch, (data, labels) in enumerate(data_loader):\n",
    "        # Feed data through networks and compute loss\n",
    "        prediction = model(data)\n",
    "        loss = loss_function(prediction, labels)\n",
    "\n",
    "        # Zero gradients.\n",
    "        optimizer.zero_grad()\n",
    " \n",
    "        # Perform backpropagation and accumulate gradients.\n",
    "        loss.backward()\n",
    " \n",
    "        # Update network parameters.\n",
    "        optimizer.step()\n",
    " \n",
    "\n",
    "def test_loop(data_loader, model, loss_function):\n",
    "    n_samples = len(data_loader.dataset)\n",
    "    n_batches = len(data_loader)\n",
    "    loss, n_correct = 0, 0\n",
    " \n",
    "    with torch.no_grad():\n",
    "        for data, labels in data_loader:\n",
    "            # Feed data through network and accumulate loss.\n",
    "            prediction = model(data)\n",
    "            loss += loss_function(\n",
    "                prediction, labels\n",
    "            ).item()\n",
    "            n_correct += (\n",
    "                (prediction.argmax(1) == labels)\n",
    "                .type(torch.float)\n",
    "                .sum()\n",
    "                .item()\n",
    "            )\n",
    " \n",
    "    print(\n",
    "        f\"Test Accuracy: {n_correct / n_samples:.2%}, \"\n",
    "        f\"Test Loss: {loss / n_batches:.4}\"\n",
    "    )\n",
    " \n",
    " \n",
    "# Initialize network, loss function, and optimizer.\n",
    "model = FashionNetwork()\n",
    "loss_fn = nn.CrossEntropyLoss()\n",
    "learning_rate = 1e-3\n",
    "optimizer = torch.optim.SGD(\n",
    "    model.parameters(), lr=learning_rate\n",
    ")\n",
    " \n",
    "# Train the network.\n",
    "n_epochs = 10\n",
    "for t in range(n_epochs):\n",
    "    print(f\"Epoch {t + 1:02}\", end=\" \", flush=True)\n",
    "    train_loop(\n",
    "        training_data_loader, model, loss_fn, optimizer\n",
    "    )\n",
    "    test_loop(test_data_loader, model, loss_fn)"
   ]
  }
 ],
 "metadata": {
  "kernelspec": {
   "display_name": "base",
   "language": "python",
   "name": "python3"
  },
  "language_info": {
   "codemirror_mode": {
    "name": "ipython",
    "version": 3
   },
   "file_extension": ".py",
   "mimetype": "text/x-python",
   "name": "python",
   "nbconvert_exporter": "python",
   "pygments_lexer": "ipython3",
   "version": "3.8.16"
  },
  "orig_nbformat": 4
 },
 "nbformat": 4,
 "nbformat_minor": 2
}
